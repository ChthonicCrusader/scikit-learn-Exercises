{
 "cells": [
  {
   "cell_type": "markdown",
   "metadata": {},
   "source": [
    "#Support Vector Machines"
   ]
  },
  {
   "cell_type": "markdown",
   "metadata": {},
   "source": [
    "Let's begin by importing the SVM library from sklearn package."
   ]
  },
  {
   "cell_type": "code",
   "execution_count": 40,
   "metadata": {
    "collapsed": true
   },
   "outputs": [],
   "source": [
    "from sklearn import svm"
   ]
  },
  {
   "cell_type": "markdown",
   "metadata": {},
   "source": [
    "X is our feature matrix, having two features x1 and x2. y is our target vector.\n",
    "If you want to import data from a csv file, pandas is a good package. Demo:\n",
    "\n",
    "*import pandas as pd*\n",
    "\n",
    "*data = pd.read_csv('link', index_col = 0)*"
   ]
  },
  {
   "cell_type": "code",
   "execution_count": 149,
   "metadata": {
    "collapsed": false
   },
   "outputs": [
    {
     "data": {
      "text/plain": [
       "SVC(C=1.0, cache_size=200, class_weight=None, coef0=0.0,\n",
       "  decision_function_shape=None, degree=3, gamma='auto', kernel='rbf',\n",
       "  max_iter=-1, probability=False, random_state=None, shrinking=True,\n",
       "  tol=0.001, verbose=False)"
      ]
     },
     "execution_count": 149,
     "metadata": {},
     "output_type": "execute_result"
    }
   ],
   "source": [
    "X = [[0, 0], [1, 1]]\n",
    "y = [0, 1]"
   ]
  },
  {
   "cell_type": "markdown",
   "metadata": {},
   "source": [
    "Now, we initialise a SVM object. We would be using the Suport Vector Classifier(SVC) model. Note that by default, it assumes Radial Basis Function(RBF) as its kernel. If we want a different kernel, we can write it as a function and pass it as an argument while initialising.\n",
    "\n",
    "Next we fit the model with our training input and target vector."
   ]
  },
  {
   "cell_type": "code",
   "execution_count": null,
   "metadata": {
    "collapsed": true
   },
   "outputs": [],
   "source": [
    "clf = svm.SVC()\n",
    "clf.fit(X, y)"
   ]
  },
  {
   "cell_type": "markdown",
   "metadata": {},
   "source": [
    "predict is used to get the output of the model trained above. The passed argument represents our test input data. Note that in 0.17, passing 1d array has been deprecated, hence the input is passed in two square brackets '[[]]'"
   ]
  },
  {
   "cell_type": "code",
   "execution_count": 42,
   "metadata": {
    "collapsed": false
   },
   "outputs": [
    {
     "data": {
      "text/plain": [
       "array([1])"
      ]
     },
     "execution_count": 42,
     "metadata": {},
     "output_type": "execute_result"
    }
   ],
   "source": [
    "clf.predict([[2., 2.]])"
   ]
  },
  {
   "cell_type": "markdown",
   "metadata": {},
   "source": [
    "**Multi class classification using SVC/NuSVC**\n",
    "\n",
    "SVC/NuSVC implements one-vs-one approach for multiclass classification. It constructs n*(n-1)/2 classifiers,where n is the number of classes. Then each classifier trains data from two classes. the decision_function_shape option allows to aggregate the results of the “one-against-one” classifiers to a decision function of shape (n_samples, n_classes)"
   ]
  },
  {
   "cell_type": "code",
   "execution_count": 151,
   "metadata": {
    "collapsed": false
   },
   "outputs": [
    {
     "data": {
      "text/plain": [
       "6L"
      ]
     },
     "execution_count": 151,
     "metadata": {},
     "output_type": "execute_result"
    }
   ],
   "source": [
    "X = [[0, 1], [1, 2], [2, 3], [3, 5]]\n",
    "y = [0, 1, 2 ,3] #Change 3 to 2 or 1 or 0 and then check the dec.shape. You will notice the value that of one less class. \n",
    "# This is because, now we have lesser number of classes only 3(0, 1, and 2)\n",
    "mcc = svm.SVC(decision_function_shape='ovo')\n",
    "mcc.fit(X,y)\n",
    "#The input to decision function is a vector similar in dimension to a row of input matrix\n",
    "dec = mcc.decision_function([[0, 1]])\n",
    "dec.shape[1]#one-vs-one, 4 classes, 4*3/2 classifiers"
   ]
  },
  {
   "cell_type": "code",
   "execution_count": 147,
   "metadata": {
    "collapsed": false
   },
   "outputs": [
    {
     "data": {
      "text/plain": [
       "4L"
      ]
     },
     "execution_count": 147,
     "metadata": {},
     "output_type": "execute_result"
    }
   ],
   "source": [
    "mcc.decision_function_shape = \"ovr\"\n",
    "dec = mcc.decision_function([X[0]])\n",
    "dec.shape[1]#one vs rest,4 classes, 4 classifiers"
   ]
  },
  {
   "cell_type": "markdown",
   "metadata": {},
   "source": [
    "**Multi class classification using LinearSVC**\n",
    "\n",
    "LinearSVC implements one-vs-rest multi class strategy. If there are only two classes, only one model is trained."
   ]
  },
  {
   "cell_type": "code",
   "execution_count": 140,
   "metadata": {
    "collapsed": false
   },
   "outputs": [
    {
     "data": {
      "text/plain": [
       "LinearSVC(C=1.0, class_weight=None, dual=True, fit_intercept=True,\n",
       "     intercept_scaling=1, loss='squared_hinge', max_iter=1000,\n",
       "     multi_class='ovr', penalty='l2', random_state=None, tol=0.0001,\n",
       "     verbose=0)"
      ]
     },
     "execution_count": 140,
     "metadata": {},
     "output_type": "execute_result"
    }
   ],
   "source": [
    "lin_clf = svm.LinearSVC()\n",
    "lin_clf.fit(X, y)"
   ]
  },
  {
   "cell_type": "code",
   "execution_count": 141,
   "metadata": {
    "collapsed": false
   },
   "outputs": [
    {
     "data": {
      "text/plain": [
       "4L"
      ]
     },
     "execution_count": 141,
     "metadata": {},
     "output_type": "execute_result"
    }
   ],
   "source": [
    "dec = lin_clf.decision_function([[1, 0]])\n",
    "dec.shape[1]"
   ]
  },
  {
   "cell_type": "code",
   "execution_count": 142,
   "metadata": {
    "collapsed": false
   },
   "outputs": [
    {
     "name": "stdout",
     "output_type": "stream",
     "text": [
      "(4L,)\n",
      "[ 0.55171927 -0.01770547 -0.21289276 -1.17070384]\n",
      "(4L, 2L)\n",
      "[[-0.75859637 -0.2068771 ]\n",
      " [ 0.06209578 -0.20845024]\n",
      " [ 0.74500289 -0.5010721 ]\n",
      " [ 0.0975773   0.24385937]]\n"
     ]
    }
   ],
   "source": [
    "#Let's have a look at the shape of coefficients and the intercept.\n",
    "a = lin_clf.intercept_.shape\n",
    "b = lin_clf.coef_.shape\n",
    "print a # [no. of classes]\n",
    "print lin_clf.intercept_\n",
    "print b # [no. of classes X no. of features]\n",
    "print lin_clf.coef_"
   ]
  },
  {
   "cell_type": "markdown",
   "metadata": {},
   "source": [
    "\n",
    "**Note:** To highlight the dimensions of coefficent and intercept, I took input matrix X with two features."
   ]
  },
  {
   "cell_type": "markdown",
   "metadata": {},
   "source": [
    "##Logistic Regression vs SVM"
   ]
  },
  {
   "cell_type": "markdown",
   "metadata": {},
   "source": [
    "Logistic Regression and SVM are two very elegant models for a classification problem. Often one may get confused when to use which. In this section I try to clear this fog:"
   ]
  },
  {
   "cell_type": "markdown",
   "metadata": {},
   "source": [
    "1. **If number of features is large, compared to the number of training example. n ~ 10^4, m ~ 10^2** Use Logistic regression or SVM without a kernel/Linear kernel.\n",
    "2. **If number of features is small, training examples intermediary. n ~ 10^3, m ~ 10^4** Use SVM with Gaussian Kernel.\n",
    "3. **If number of features is small, training examples large. n ~ 10^3, m > 50,000** Add more features and use Logistic regression or SVM without a kernel/Linear kernel."
   ]
  },
  {
   "cell_type": "markdown",
   "metadata": {},
   "source": [
    "Logistic regression and SVM without a kernel are similar model. So if one yields good results, other would not be far behind. Hence, I have mentioned both together in case 1 and 3 above.\n",
    "\n",
    "The real power of SVM is exposed when they are used with non-linear kernels."
   ]
  },
  {
   "cell_type": "markdown",
   "metadata": {},
   "source": [
    "*I hope this posts help. This is a compilation of my gradual learning on this topic. It would be great if the readers provide there own views or share some experience on this topic. Constructive criticism is an integral part of learning.\n",
    "Thanks for your time!\n",
    "More posts on:__ http://shubhamscavern.wordpress.com __*"
   ]
  }
 ],
 "metadata": {
  "kernelspec": {
   "display_name": "Python 2",
   "language": "python",
   "name": "python2"
  },
  "language_info": {
   "codemirror_mode": {
    "name": "ipython",
    "version": 2
   },
   "file_extension": ".py",
   "mimetype": "text/x-python",
   "name": "python",
   "nbconvert_exporter": "python",
   "pygments_lexer": "ipython2",
   "version": "2.7.10"
  }
 },
 "nbformat": 4,
 "nbformat_minor": 0
}
